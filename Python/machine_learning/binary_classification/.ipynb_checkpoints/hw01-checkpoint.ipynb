{
 "cells": [
  {
   "cell_type": "markdown",
   "id": "99fc76f3",
   "metadata": {},
   "source": [
    "# Importing libraries\n",
    "**pandas** for data manipulation and analysis <br>\n",
    "**numpy** for numerical computing <br>\n",
    "**matplotlib** for printing graphs <br>\n",
    "**sklearn.metrics** for 'accuracy_score' <br>\n",
    "**train_test_split** for splitting data <br>\n",
    "**DecisionTreeClassifier** for predictions <br>\n",
    "**ParameterGrid**"
   ]
  },
  {
   "cell_type": "code",
   "execution_count": 1,
   "id": "6ec82dc0",
   "metadata": {},
   "outputs": [],
   "source": [
    "import pandas as pd\n",
    "import numpy as np\n",
    "import matplotlib\n",
    "import matplotlib.pyplot as plt\n",
    "import sklearn.metrics as metrics\n",
    "from sklearn.model_selection import train_test_split\n",
    "from sklearn.tree import DecisionTreeClassifier\n",
    "from sklearn.model_selection import ParameterGrid\n",
    "\n",
    "# Helps plotting graphs (source: BI-ML1, first notebook: 01_tutorial_cs_template)\n",
    "%matplotlib inline"
   ]
  },
  {
   "cell_type": "code",
   "execution_count": 2,
   "id": "2015ab61",
   "metadata": {},
   "outputs": [
    {
     "name": "stdout",
     "output_type": "stream",
     "text": [
      "First 10 records\n",
      "-----------------\n"
     ]
    },
    {
     "data": {
      "text/html": [
       "<div>\n",
       "<style scoped>\n",
       "    .dataframe tbody tr th:only-of-type {\n",
       "        vertical-align: middle;\n",
       "    }\n",
       "\n",
       "    .dataframe tbody tr th {\n",
       "        vertical-align: top;\n",
       "    }\n",
       "\n",
       "    .dataframe thead th {\n",
       "        text-align: right;\n",
       "    }\n",
       "</style>\n",
       "<table border=\"1\" class=\"dataframe\">\n",
       "  <thead>\n",
       "    <tr style=\"text-align: right;\">\n",
       "      <th></th>\n",
       "      <th>ID</th>\n",
       "      <th>survived</th>\n",
       "      <th>pclass</th>\n",
       "      <th>name</th>\n",
       "      <th>sex</th>\n",
       "      <th>age</th>\n",
       "      <th>sibsp</th>\n",
       "      <th>parch</th>\n",
       "      <th>ticket</th>\n",
       "      <th>fare</th>\n",
       "      <th>cabin</th>\n",
       "      <th>embarked</th>\n",
       "      <th>home.dest</th>\n",
       "    </tr>\n",
       "  </thead>\n",
       "  <tbody>\n",
       "    <tr>\n",
       "      <th>0</th>\n",
       "      <td>0</td>\n",
       "      <td>1</td>\n",
       "      <td>3</td>\n",
       "      <td>Andersson, Mr. August Edvard (\"Wennerstrom\")</td>\n",
       "      <td>male</td>\n",
       "      <td>27.0</td>\n",
       "      <td>0</td>\n",
       "      <td>0</td>\n",
       "      <td>350043</td>\n",
       "      <td>7.7958</td>\n",
       "      <td>NaN</td>\n",
       "      <td>S</td>\n",
       "      <td>NaN</td>\n",
       "    </tr>\n",
       "    <tr>\n",
       "      <th>1</th>\n",
       "      <td>1</td>\n",
       "      <td>1</td>\n",
       "      <td>3</td>\n",
       "      <td>Dahl, Mr. Karl Edwart</td>\n",
       "      <td>male</td>\n",
       "      <td>45.0</td>\n",
       "      <td>0</td>\n",
       "      <td>0</td>\n",
       "      <td>7598</td>\n",
       "      <td>8.0500</td>\n",
       "      <td>NaN</td>\n",
       "      <td>S</td>\n",
       "      <td>Australia Fingal, ND</td>\n",
       "    </tr>\n",
       "    <tr>\n",
       "      <th>2</th>\n",
       "      <td>2</td>\n",
       "      <td>0</td>\n",
       "      <td>2</td>\n",
       "      <td>Watson, Mr. Ennis Hastings</td>\n",
       "      <td>male</td>\n",
       "      <td>NaN</td>\n",
       "      <td>0</td>\n",
       "      <td>0</td>\n",
       "      <td>239856</td>\n",
       "      <td>0.0000</td>\n",
       "      <td>NaN</td>\n",
       "      <td>S</td>\n",
       "      <td>Belfast</td>\n",
       "    </tr>\n",
       "    <tr>\n",
       "      <th>3</th>\n",
       "      <td>3</td>\n",
       "      <td>1</td>\n",
       "      <td>3</td>\n",
       "      <td>Johnson, Mrs. Oscar W (Elisabeth Vilhelmina Berg)</td>\n",
       "      <td>female</td>\n",
       "      <td>27.0</td>\n",
       "      <td>0</td>\n",
       "      <td>2</td>\n",
       "      <td>347742</td>\n",
       "      <td>11.1333</td>\n",
       "      <td>NaN</td>\n",
       "      <td>S</td>\n",
       "      <td>NaN</td>\n",
       "    </tr>\n",
       "    <tr>\n",
       "      <th>4</th>\n",
       "      <td>4</td>\n",
       "      <td>0</td>\n",
       "      <td>1</td>\n",
       "      <td>Meyer, Mr. Edgar Joseph</td>\n",
       "      <td>male</td>\n",
       "      <td>28.0</td>\n",
       "      <td>1</td>\n",
       "      <td>0</td>\n",
       "      <td>PC 17604</td>\n",
       "      <td>82.1708</td>\n",
       "      <td>NaN</td>\n",
       "      <td>C</td>\n",
       "      <td>New York, NY</td>\n",
       "    </tr>\n",
       "    <tr>\n",
       "      <th>5</th>\n",
       "      <td>5</td>\n",
       "      <td>0</td>\n",
       "      <td>3</td>\n",
       "      <td>Torfa, Mr. Assad</td>\n",
       "      <td>male</td>\n",
       "      <td>NaN</td>\n",
       "      <td>0</td>\n",
       "      <td>0</td>\n",
       "      <td>2673</td>\n",
       "      <td>7.2292</td>\n",
       "      <td>NaN</td>\n",
       "      <td>C</td>\n",
       "      <td>NaN</td>\n",
       "    </tr>\n",
       "    <tr>\n",
       "      <th>6</th>\n",
       "      <td>6</td>\n",
       "      <td>0</td>\n",
       "      <td>1</td>\n",
       "      <td>Astor, Col. John Jacob</td>\n",
       "      <td>male</td>\n",
       "      <td>47.0</td>\n",
       "      <td>1</td>\n",
       "      <td>0</td>\n",
       "      <td>PC 17757</td>\n",
       "      <td>227.5250</td>\n",
       "      <td>C62 C64</td>\n",
       "      <td>C</td>\n",
       "      <td>New York, NY</td>\n",
       "    </tr>\n",
       "    <tr>\n",
       "      <th>7</th>\n",
       "      <td>7</td>\n",
       "      <td>1</td>\n",
       "      <td>2</td>\n",
       "      <td>Drew, Master. Marshall Brines</td>\n",
       "      <td>male</td>\n",
       "      <td>8.0</td>\n",
       "      <td>0</td>\n",
       "      <td>2</td>\n",
       "      <td>28220</td>\n",
       "      <td>32.5000</td>\n",
       "      <td>NaN</td>\n",
       "      <td>S</td>\n",
       "      <td>Greenport, NY</td>\n",
       "    </tr>\n",
       "    <tr>\n",
       "      <th>8</th>\n",
       "      <td>8</td>\n",
       "      <td>1</td>\n",
       "      <td>1</td>\n",
       "      <td>Harper, Mrs. Henry Sleeper (Myna Haxtun)</td>\n",
       "      <td>female</td>\n",
       "      <td>49.0</td>\n",
       "      <td>1</td>\n",
       "      <td>0</td>\n",
       "      <td>PC 17572</td>\n",
       "      <td>76.7292</td>\n",
       "      <td>D33</td>\n",
       "      <td>C</td>\n",
       "      <td>New York, NY</td>\n",
       "    </tr>\n",
       "    <tr>\n",
       "      <th>9</th>\n",
       "      <td>9</td>\n",
       "      <td>1</td>\n",
       "      <td>2</td>\n",
       "      <td>Beane, Mrs. Edward (Ethel Clarke)</td>\n",
       "      <td>female</td>\n",
       "      <td>19.0</td>\n",
       "      <td>1</td>\n",
       "      <td>0</td>\n",
       "      <td>2908</td>\n",
       "      <td>26.0000</td>\n",
       "      <td>NaN</td>\n",
       "      <td>S</td>\n",
       "      <td>Norwich / New York, NY</td>\n",
       "    </tr>\n",
       "  </tbody>\n",
       "</table>\n",
       "</div>"
      ],
      "text/plain": [
       "   ID  survived  pclass                                               name  \\\n",
       "0   0         1       3       Andersson, Mr. August Edvard (\"Wennerstrom\")   \n",
       "1   1         1       3                              Dahl, Mr. Karl Edwart   \n",
       "2   2         0       2                         Watson, Mr. Ennis Hastings   \n",
       "3   3         1       3  Johnson, Mrs. Oscar W (Elisabeth Vilhelmina Berg)   \n",
       "4   4         0       1                            Meyer, Mr. Edgar Joseph   \n",
       "5   5         0       3                                   Torfa, Mr. Assad   \n",
       "6   6         0       1                             Astor, Col. John Jacob   \n",
       "7   7         1       2                      Drew, Master. Marshall Brines   \n",
       "8   8         1       1           Harper, Mrs. Henry Sleeper (Myna Haxtun)   \n",
       "9   9         1       2                  Beane, Mrs. Edward (Ethel Clarke)   \n",
       "\n",
       "      sex   age  sibsp  parch    ticket      fare    cabin embarked  \\\n",
       "0    male  27.0      0      0    350043    7.7958      NaN        S   \n",
       "1    male  45.0      0      0      7598    8.0500      NaN        S   \n",
       "2    male   NaN      0      0    239856    0.0000      NaN        S   \n",
       "3  female  27.0      0      2    347742   11.1333      NaN        S   \n",
       "4    male  28.0      1      0  PC 17604   82.1708      NaN        C   \n",
       "5    male   NaN      0      0      2673    7.2292      NaN        C   \n",
       "6    male  47.0      1      0  PC 17757  227.5250  C62 C64        C   \n",
       "7    male   8.0      0      2     28220   32.5000      NaN        S   \n",
       "8  female  49.0      1      0  PC 17572   76.7292      D33        C   \n",
       "9  female  19.0      1      0      2908   26.0000      NaN        S   \n",
       "\n",
       "                home.dest  \n",
       "0                     NaN  \n",
       "1    Australia Fingal, ND  \n",
       "2                 Belfast  \n",
       "3                     NaN  \n",
       "4            New York, NY  \n",
       "5                     NaN  \n",
       "6            New York, NY  \n",
       "7           Greenport, NY  \n",
       "8            New York, NY  \n",
       "9  Norwich / New York, NY  "
      ]
     },
     "metadata": {},
     "output_type": "display_data"
    },
    {
     "name": "stdout",
     "output_type": "stream",
     "text": [
      "Basic info\n",
      "-----------------\n",
      "<class 'pandas.core.frame.DataFrame'>\n",
      "RangeIndex: 1000 entries, 0 to 999\n",
      "Data columns (total 13 columns):\n",
      " #   Column     Non-Null Count  Dtype  \n",
      "---  ------     --------------  -----  \n",
      " 0   ID         1000 non-null   int64  \n",
      " 1   survived   1000 non-null   int64  \n",
      " 2   pclass     1000 non-null   int64  \n",
      " 3   name       1000 non-null   object \n",
      " 4   sex        1000 non-null   object \n",
      " 5   age        797 non-null    float64\n",
      " 6   sibsp      1000 non-null   int64  \n",
      " 7   parch      1000 non-null   int64  \n",
      " 8   ticket     1000 non-null   object \n",
      " 9   fare       999 non-null    float64\n",
      " 10  cabin      222 non-null    object \n",
      " 11  embarked   999 non-null    object \n",
      " 12  home.dest  573 non-null    object \n",
      "dtypes: float64(2), int64(5), object(6)\n",
      "memory usage: 101.7+ KB\n"
     ]
    },
    {
     "data": {
      "text/plain": [
       "None"
      ]
     },
     "metadata": {},
     "output_type": "display_data"
    },
    {
     "name": "stdout",
     "output_type": "stream",
     "text": [
      "Number of uniques records\n",
      "-----------------\n"
     ]
    },
    {
     "data": {
      "text/plain": [
       "ID           1000\n",
       "survived        2\n",
       "pclass          3\n",
       "name          999\n",
       "sex             2\n",
       "age            94\n",
       "sibsp           7\n",
       "parch           7\n",
       "ticket        754\n",
       "fare          249\n",
       "cabin         156\n",
       "embarked        3\n",
       "home.dest     314\n",
       "dtype: int64"
      ]
     },
     "metadata": {},
     "output_type": "display_data"
    }
   ],
   "source": [
    "data = pd.read_csv(\"data.csv\")\n",
    "print(\"First 10 records\\n-----------------\")\n",
    "display(data.head(10))\n",
    "print(\"Basic info\\n-----------------\")\n",
    "display(data.info())\n",
    "print(\"Number of uniques records\\n-----------------\")\n",
    "display(data.nunique())"
   ]
  },
  {
   "cell_type": "markdown",
   "id": "c1537f05",
   "metadata": {},
   "source": [
    "# Preparing dataset"
   ]
  },
  {
   "cell_type": "markdown",
   "id": "93d83887",
   "metadata": {},
   "source": [
    "Drop columns we wont need in our dataset for testing\n",
    "\n",
    "Get rid of 'NULL' values or change them to number\n",
    "\n",
    "Change 'object' datatypes:\n",
    "\n",
    "    1) Ordinal = object -> category -> use: cat.codes\n",
    "    \n",
    "    2) Nominal = one-hot encoding -> use: pd.get_dummies()"
   ]
  },
  {
   "cell_type": "code",
   "execution_count": 3,
   "id": "b8ca0181",
   "metadata": {},
   "outputs": [
    {
     "name": "stdout",
     "output_type": "stream",
     "text": [
      "survived      0\n",
      "pclass        0\n",
      "sex           0\n",
      "age         203\n",
      "sibsp         0\n",
      "parch         0\n",
      "ticket        0\n",
      "fare          1\n",
      "embarked      1\n",
      "dtype: int64\n"
     ]
    }
   ],
   "source": [
    "# Drop columns we wont need\n",
    "drop_columns = ['ID' ,'name', 'cabin', 'home.dest']\n",
    "test_data = data.drop(drop_columns, axis = 1)\n",
    "\n",
    "# Get number of 'NULL' values for each column\n",
    "print(test_data.isnull().sum())\n",
    "\n",
    "# Change 'NULL' values to 0 and check result\n",
    "test_data = test_data.fillna(0)\n",
    "#print(test_data.isnull().sum())\n",
    "\n",
    "# 'sex' and 'embarked' are nominal\n",
    "test_data = pd.get_dummies(test_data)"
   ]
  },
  {
   "cell_type": "markdown",
   "id": "607cb712",
   "metadata": {},
   "source": [
    "# Decision tree\n",
    "### Prepare explained variable and datasets\n",
    "\n",
    "Split data into train, validation and test datasets"
   ]
  },
  {
   "cell_type": "code",
   "execution_count": 4,
   "id": "9f201f18",
   "metadata": {
    "scrolled": true
   },
   "outputs": [
    {
     "name": "stdout",
     "output_type": "stream",
     "text": [
      "Xtrain:  (600, 765) \n",
      "ytrain:  (600,) \n",
      "Xtest:  (400, 765) \n",
      "ytest:  (400,) \n",
      "\n",
      "Xval:  (200, 765) \n",
      "yval:  (200,) \n",
      "Xtest:  (200, 765) \n",
      "ytest:  (200,)\n"
     ]
    }
   ],
   "source": [
    "random_seed = 333\n",
    "\n",
    "# Get rid of out explained variable in dataset\n",
    "Xdata = test_data.drop(\"survived\", axis = 1)\n",
    "ydata = test_data.survived\n",
    "\n",
    "# Split data: 60% for train data, 40% rest\n",
    "Xtrain, Xtest, ytrain, ytest = train_test_split(Xdata, ydata, test_size=0.4, random_state=random_seed) \n",
    "print(\"Xtrain: \", Xtrain.shape, \"\\nytrain: \", ytrain.shape, \"\\nXtest: \", Xtest.shape, \"\\nytest: \", ytest.shape, \"\\n\")\n",
    "\n",
    "# Split rest of data (40%) into valid and test data, 50%/50%\n",
    "Xval, Xtest, yval, ytest = train_test_split(Xtest, ytest, test_size=0.5, random_state=random_seed) \n",
    "print(\"Xval: \", Xval.shape, \"\\nyval: \", yval.shape, \"\\nXtest: \", Xtest.shape, \"\\nytest: \", ytest.shape)"
   ]
  },
  {
   "cell_type": "markdown",
   "id": "6f62a95c",
   "metadata": {},
   "source": [
    "### Find hyperparameters and learn the model\n",
    "Find best hyperparameters for our model\n",
    "\n",
    "Let the model learn with these hyperparameters"
   ]
  },
  {
   "cell_type": "code",
   "execution_count": 5,
   "id": "e119ef65",
   "metadata": {},
   "outputs": [
    {
     "name": "stdout",
     "output_type": "stream",
     "text": [
      "\n",
      "Best_params: {'max_depth': 11, 'criterion': 'entropy'} \n",
      "\n",
      "Accuracy score (train): 0.938333\n",
      "Accuracy score (validation): 0.800000\n",
      "Accuracy score (test): 0.795000\n"
     ]
    }
   ],
   "source": [
    "# Find best hyperparameters (depths, criterions)\n",
    "get_param = {\n",
    "    'max_depth': range(1,101), \n",
    "    'criterion': ['entropy', 'gini']\n",
    "}\n",
    "param_comb = ParameterGrid(get_param)\n",
    "\n",
    "# Try all combinations (depth={1, 100} * criterions={'entropy', 'gini'})\n",
    "val_acc = []\n",
    "train_acc = []\n",
    "for params in param_comb:\n",
    "    clf = DecisionTreeClassifier(max_depth=params['max_depth'], criterion=params['criterion'])\n",
    "    clf.fit(Xtrain, ytrain)\n",
    "    train_acc.append(metrics.accuracy_score(ytrain, clf.predict(Xtrain)))\n",
    "    val_acc.append(metrics.accuracy_score(yval, clf.predict(Xval)))\n",
    "\n",
    "# Get best parameters from function above\n",
    "best_param = param_comb[np.argmax(val_acc)]\n",
    "print(\"\\nBest_params:\", best_param, \"\\n\")\n",
    "\n",
    "# Final result\n",
    "clf = DecisionTreeClassifier(**best_param)\n",
    "clf.fit(Xtrain, ytrain)\n",
    "print('Accuracy score (train): {0:.6f}'.format(metrics.accuracy_score(ytrain, clf.predict(Xtrain))))\n",
    "print('Accuracy score (validation): {0:.6f}'.format(metrics.accuracy_score(yval, clf.predict(Xval))))\n",
    "print('Accuracy score (test): {0:.6f}'.format(metrics.accuracy_score(ytest, clf.predict(Xtest))))"
   ]
  },
  {
   "cell_type": "markdown",
   "id": "bbd46e35",
   "metadata": {},
   "source": [
    "# Decision tree for evaluation.cvs\n",
    "Load new dataset\n",
    "\n",
    "Correct dataset like in 'data.csv'\n",
    "\n",
    "Try our model on new dataset"
   ]
  },
  {
   "cell_type": "code",
   "execution_count": 6,
   "id": "945e3d4c",
   "metadata": {},
   "outputs": [
    {
     "name": "stdout",
     "output_type": "stream",
     "text": [
      "Accuracy score (evaluation.csv): 0.800000\n"
     ]
    }
   ],
   "source": [
    "eval_data = pd.read_csv(\"evaluation.csv\")\n",
    "\n",
    "# Drop the same columns like in data.csv\n",
    "eval_data = eval_data.drop(drop_columns, axis = 1)\n",
    "\n",
    "# Change NULL values to 0\n",
    "eval_data = eval_data.fillna(0)\n",
    "\n",
    "# 'sex' and 'embarked' are nominal -> one_hot_encoding = get_dummies()\n",
    "eval_data = pd.get_dummies(eval_data)\n",
    "\n",
    "# Change dataset for testing 'evaluation.csv'\n",
    "Xdata = eval_data\n",
    "\n",
    "# Final result\n",
    "clf = DecisionTreeClassifier(**best_param)\n",
    "clf.fit(Xtrain, ytrain)\n",
    "print('Accuracy score (evaluation.csv): {0:.6f}'.format(metrics.accuracy_score(ytest, clf.predict(Xtest))))"
   ]
  },
  {
   "cell_type": "markdown",
   "id": "795538fe",
   "metadata": {},
   "source": [
    "# KNN"
   ]
  },
  {
   "cell_type": "code",
   "execution_count": null,
   "id": "c0df9b46",
   "metadata": {},
   "outputs": [],
   "source": []
  },
  {
   "cell_type": "code",
   "execution_count": null,
   "id": "13a98c1b",
   "metadata": {},
   "outputs": [],
   "source": []
  }
 ],
 "metadata": {
  "kernelspec": {
   "display_name": "Python 3 (ipykernel)",
   "language": "python",
   "name": "python3"
  },
  "language_info": {
   "codemirror_mode": {
    "name": "ipython",
    "version": 3
   },
   "file_extension": ".py",
   "mimetype": "text/x-python",
   "name": "python",
   "nbconvert_exporter": "python",
   "pygments_lexer": "ipython3",
   "version": "3.8.2"
  }
 },
 "nbformat": 4,
 "nbformat_minor": 5
}
